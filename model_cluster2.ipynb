{
 "cells": [
  {
   "cell_type": "code",
   "execution_count": 1,
   "id": "c5c20ba1",
   "metadata": {},
   "outputs": [],
   "source": [
    "import warnings\n",
    "warnings.filterwarnings('ignore')"
   ]
  },
  {
   "cell_type": "code",
   "execution_count": 2,
   "id": "85181c14",
   "metadata": {},
   "outputs": [],
   "source": [
    "import pandas as pd\n",
    "df = pd.read_csv('amazon_products_cleaned.csv')\n",
    "data = pd.read_csv('amazon_products.csv')"
   ]
  },
  {
   "cell_type": "code",
   "execution_count": 3,
   "id": "67e22883",
   "metadata": {},
   "outputs": [
    {
     "data": {
      "text/plain": [
       "19"
      ]
     },
     "execution_count": 3,
     "metadata": {},
     "output_type": "execute_result"
    }
   ],
   "source": [
    "df['category_id'].nunique()"
   ]
  },
  {
   "cell_type": "code",
   "execution_count": 4,
   "id": "6c23d2f7",
   "metadata": {},
   "outputs": [
    {
     "name": "stdout",
     "output_type": "stream",
     "text": [
      "WARNING:tensorflow:From C:\\Users\\JAIVAL CHAUHAN\\AppData\\Roaming\\Python\\Python312\\site-packages\\tf_keras\\src\\losses.py:2976: The name tf.losses.sparse_softmax_cross_entropy is deprecated. Please use tf.compat.v1.losses.sparse_softmax_cross_entropy instead.\n",
      "\n"
     ]
    },
    {
     "data": {
      "application/vnd.jupyter.widget-view+json": {
       "model_id": "709608466b504ed08e762ef10a3e9454",
       "version_major": 2,
       "version_minor": 0
      },
      "text/plain": [
       "Batches:   0%|          | 0/44574 [00:00<?, ?it/s]"
      ]
     },
     "metadata": {},
     "output_type": "display_data"
    }
   ],
   "source": [
    "from sentence_transformers import SentenceTransformer\n",
    "model = SentenceTransformer('all-mpnet-base-v2')\n",
    "embeddings = model.encode(df['category_id'].tolist(), show_progress_bar=True, device='cuda')"
   ]
  },
  {
   "cell_type": "code",
   "execution_count": 5,
   "id": "d02d61b1",
   "metadata": {},
   "outputs": [
    {
     "name": "stderr",
     "output_type": "stream",
     "text": [
      "  File \"C:\\Users\\JAIVAL CHAUHAN\\AppData\\Roaming\\Python\\Python312\\site-packages\\joblib\\externals\\loky\\backend\\context.py\", line 257, in _count_physical_cores\n",
      "    cpu_info = subprocess.run(\n",
      "               ^^^^^^^^^^^^^^^\n",
      "  File \"c:\\Program Files\\Python312\\Lib\\subprocess.py\", line 548, in run\n",
      "    with Popen(*popenargs, **kwargs) as process:\n",
      "         ^^^^^^^^^^^^^^^^^^^^^^^^^^^\n",
      "  File \"c:\\Program Files\\Python312\\Lib\\subprocess.py\", line 1026, in __init__\n",
      "    self._execute_child(args, executable, preexec_fn, close_fds,\n",
      "  File \"c:\\Program Files\\Python312\\Lib\\subprocess.py\", line 1538, in _execute_child\n",
      "    hp, ht, pid, tid = _winapi.CreateProcess(executable, args,\n",
      "                       ^^^^^^^^^^^^^^^^^^^^^^^^^^^^^^^^^^^^^^^\n"
     ]
    }
   ],
   "source": [
    "from sklearn.cluster import KMeans\n",
    "\n",
    "kmeans = KMeans(n_clusters=10, random_state=42)\n",
    "df['embeddings'] = kmeans.fit_predict(embeddings)\n",
    "df['embeddings'] = df['embeddings'].astype(str)"
   ]
  },
  {
   "cell_type": "code",
   "execution_count": 7,
   "id": "ecceef1e",
   "metadata": {},
   "outputs": [
    {
     "data": {
      "text/html": [
       "<div>\n",
       "<style scoped>\n",
       "    .dataframe tbody tr th:only-of-type {\n",
       "        vertical-align: middle;\n",
       "    }\n",
       "\n",
       "    .dataframe tbody tr th {\n",
       "        vertical-align: top;\n",
       "    }\n",
       "\n",
       "    .dataframe thead th {\n",
       "        text-align: right;\n",
       "    }\n",
       "</style>\n",
       "<table border=\"1\" class=\"dataframe\">\n",
       "  <thead>\n",
       "    <tr style=\"text-align: right;\">\n",
       "      <th></th>\n",
       "      <th>asin</th>\n",
       "      <th>title</th>\n",
       "      <th>imgUrl</th>\n",
       "      <th>productURL</th>\n",
       "      <th>stars</th>\n",
       "      <th>reviews</th>\n",
       "      <th>price</th>\n",
       "      <th>listPrice</th>\n",
       "      <th>category_id</th>\n",
       "      <th>isBestSeller</th>\n",
       "      <th>boughtInLastMonth</th>\n",
       "      <th>embeddings</th>\n",
       "    </tr>\n",
       "  </thead>\n",
       "  <tbody>\n",
       "    <tr>\n",
       "      <th>0</th>\n",
       "      <td>B014TMV5YE</td>\n",
       "      <td>Sion Softside Expandable Roller Luggage, Black...</td>\n",
       "      <td>https://m.media-amazon.com/images/I/815dLQKYIY...</td>\n",
       "      <td>https://www.amazon.com/dp/B014TMV5YE</td>\n",
       "      <td>4.5</td>\n",
       "      <td>0</td>\n",
       "      <td>139.99</td>\n",
       "      <td>0.00</td>\n",
       "      <td>104</td>\n",
       "      <td>False</td>\n",
       "      <td>2000</td>\n",
       "      <td>9</td>\n",
       "    </tr>\n",
       "    <tr>\n",
       "      <th>1</th>\n",
       "      <td>B07GDLCQXV</td>\n",
       "      <td>Luggage Sets Expandable PC+ABS Durable Suitcas...</td>\n",
       "      <td>https://m.media-amazon.com/images/I/81bQlm7vf6...</td>\n",
       "      <td>https://www.amazon.com/dp/B07GDLCQXV</td>\n",
       "      <td>4.5</td>\n",
       "      <td>0</td>\n",
       "      <td>169.99</td>\n",
       "      <td>209.99</td>\n",
       "      <td>104</td>\n",
       "      <td>False</td>\n",
       "      <td>1000</td>\n",
       "      <td>9</td>\n",
       "    </tr>\n",
       "    <tr>\n",
       "      <th>2</th>\n",
       "      <td>B07XSCCZYG</td>\n",
       "      <td>Platinum Elite Softside Expandable Checked Lug...</td>\n",
       "      <td>https://m.media-amazon.com/images/I/71EA35zvJB...</td>\n",
       "      <td>https://www.amazon.com/dp/B07XSCCZYG</td>\n",
       "      <td>4.6</td>\n",
       "      <td>0</td>\n",
       "      <td>365.49</td>\n",
       "      <td>429.99</td>\n",
       "      <td>104</td>\n",
       "      <td>False</td>\n",
       "      <td>300</td>\n",
       "      <td>9</td>\n",
       "    </tr>\n",
       "    <tr>\n",
       "      <th>3</th>\n",
       "      <td>B08MVFKGJM</td>\n",
       "      <td>Freeform Hardside Expandable with Double Spinn...</td>\n",
       "      <td>https://m.media-amazon.com/images/I/91k6NYLQyI...</td>\n",
       "      <td>https://www.amazon.com/dp/B08MVFKGJM</td>\n",
       "      <td>4.6</td>\n",
       "      <td>0</td>\n",
       "      <td>291.59</td>\n",
       "      <td>354.37</td>\n",
       "      <td>104</td>\n",
       "      <td>False</td>\n",
       "      <td>400</td>\n",
       "      <td>9</td>\n",
       "    </tr>\n",
       "    <tr>\n",
       "      <th>4</th>\n",
       "      <td>B01DJLKZBA</td>\n",
       "      <td>Winfield 2 Hardside Expandable Luggage with Sp...</td>\n",
       "      <td>https://m.media-amazon.com/images/I/61NJoaZcP9...</td>\n",
       "      <td>https://www.amazon.com/dp/B01DJLKZBA</td>\n",
       "      <td>4.5</td>\n",
       "      <td>0</td>\n",
       "      <td>174.99</td>\n",
       "      <td>309.99</td>\n",
       "      <td>104</td>\n",
       "      <td>False</td>\n",
       "      <td>400</td>\n",
       "      <td>9</td>\n",
       "    </tr>\n",
       "  </tbody>\n",
       "</table>\n",
       "</div>"
      ],
      "text/plain": [
       "         asin                                              title  \\\n",
       "0  B014TMV5YE  Sion Softside Expandable Roller Luggage, Black...   \n",
       "1  B07GDLCQXV  Luggage Sets Expandable PC+ABS Durable Suitcas...   \n",
       "2  B07XSCCZYG  Platinum Elite Softside Expandable Checked Lug...   \n",
       "3  B08MVFKGJM  Freeform Hardside Expandable with Double Spinn...   \n",
       "4  B01DJLKZBA  Winfield 2 Hardside Expandable Luggage with Sp...   \n",
       "\n",
       "                                              imgUrl  \\\n",
       "0  https://m.media-amazon.com/images/I/815dLQKYIY...   \n",
       "1  https://m.media-amazon.com/images/I/81bQlm7vf6...   \n",
       "2  https://m.media-amazon.com/images/I/71EA35zvJB...   \n",
       "3  https://m.media-amazon.com/images/I/91k6NYLQyI...   \n",
       "4  https://m.media-amazon.com/images/I/61NJoaZcP9...   \n",
       "\n",
       "                             productURL  stars  reviews   price  listPrice  \\\n",
       "0  https://www.amazon.com/dp/B014TMV5YE    4.5        0  139.99       0.00   \n",
       "1  https://www.amazon.com/dp/B07GDLCQXV    4.5        0  169.99     209.99   \n",
       "2  https://www.amazon.com/dp/B07XSCCZYG    4.6        0  365.49     429.99   \n",
       "3  https://www.amazon.com/dp/B08MVFKGJM    4.6        0  291.59     354.37   \n",
       "4  https://www.amazon.com/dp/B01DJLKZBA    4.5        0  174.99     309.99   \n",
       "\n",
       "  category_id  isBestSeller  boughtInLastMonth embeddings  \n",
       "0         104         False               2000          9  \n",
       "1         104         False               1000          9  \n",
       "2         104         False                300          9  \n",
       "3         104         False                400          9  \n",
       "4         104         False                400          9  "
      ]
     },
     "execution_count": 7,
     "metadata": {},
     "output_type": "execute_result"
    }
   ],
   "source": [
    "df.head()"
   ]
  },
  {
   "cell_type": "code",
   "execution_count": 14,
   "id": "9cd0ffcf",
   "metadata": {},
   "outputs": [],
   "source": [
    "def recommend_similar_by_text(product_id, df, top_n=10):\n",
    "    cluster_id = df[df['asin'] == product_id]['embeddings'].values[0]\n",
    "    similar_products = df[df['embeddings'] == cluster_id]\n",
    "    return similar_products[similar_products['asin'] != product_id][['asin', 'title', 'price']].head(top_n)"
   ]
  },
  {
   "cell_type": "code",
   "execution_count": 15,
   "id": "240cad2a",
   "metadata": {},
   "outputs": [
    {
     "data": {
      "text/html": [
       "<div>\n",
       "<style scoped>\n",
       "    .dataframe tbody tr th:only-of-type {\n",
       "        vertical-align: middle;\n",
       "    }\n",
       "\n",
       "    .dataframe tbody tr th {\n",
       "        vertical-align: top;\n",
       "    }\n",
       "\n",
       "    .dataframe thead th {\n",
       "        text-align: right;\n",
       "    }\n",
       "</style>\n",
       "<table border=\"1\" class=\"dataframe\">\n",
       "  <thead>\n",
       "    <tr style=\"text-align: right;\">\n",
       "      <th></th>\n",
       "      <th>asin</th>\n",
       "      <th>title</th>\n",
       "      <th>price</th>\n",
       "    </tr>\n",
       "  </thead>\n",
       "  <tbody>\n",
       "    <tr>\n",
       "      <th>0</th>\n",
       "      <td>B014TMV5YE</td>\n",
       "      <td>Sion Softside Expandable Roller Luggage, Black...</td>\n",
       "      <td>139.99</td>\n",
       "    </tr>\n",
       "    <tr>\n",
       "      <th>1</th>\n",
       "      <td>B07GDLCQXV</td>\n",
       "      <td>Luggage Sets Expandable PC+ABS Durable Suitcas...</td>\n",
       "      <td>169.99</td>\n",
       "    </tr>\n",
       "    <tr>\n",
       "      <th>3</th>\n",
       "      <td>B08MVFKGJM</td>\n",
       "      <td>Freeform Hardside Expandable with Double Spinn...</td>\n",
       "      <td>291.59</td>\n",
       "    </tr>\n",
       "    <tr>\n",
       "      <th>4</th>\n",
       "      <td>B01DJLKZBA</td>\n",
       "      <td>Winfield 2 Hardside Expandable Luggage with Sp...</td>\n",
       "      <td>174.99</td>\n",
       "    </tr>\n",
       "    <tr>\n",
       "      <th>5</th>\n",
       "      <td>B07XSCD2R4</td>\n",
       "      <td>Maxlite 5 Softside Expandable Luggage with 4 S...</td>\n",
       "      <td>144.49</td>\n",
       "    </tr>\n",
       "    <tr>\n",
       "      <th>6</th>\n",
       "      <td>B07MXF4G8K</td>\n",
       "      <td>Hard Shell Carry on Luggage Airline Approved, ...</td>\n",
       "      <td>169.99</td>\n",
       "    </tr>\n",
       "    <tr>\n",
       "      <th>7</th>\n",
       "      <td>B07H515VCZ</td>\n",
       "      <td>Maxporter II 30\" Hardside Spinner Trunk Luggag...</td>\n",
       "      <td>299.99</td>\n",
       "    </tr>\n",
       "    <tr>\n",
       "      <th>8</th>\n",
       "      <td>B08BXBCNMQ</td>\n",
       "      <td>Omni 2 Hardside Expandable Luggage with Spinne...</td>\n",
       "      <td>112.63</td>\n",
       "    </tr>\n",
       "    <tr>\n",
       "      <th>9</th>\n",
       "      <td>B0B9K44XTS</td>\n",
       "      <td>Luggage Sets Expandable Lightweight Suitcases ...</td>\n",
       "      <td>209.99</td>\n",
       "    </tr>\n",
       "    <tr>\n",
       "      <th>10</th>\n",
       "      <td>B07QZLHTTY</td>\n",
       "      <td>Crew Versapack Softside Expandable 8 Spinner W...</td>\n",
       "      <td>271.99</td>\n",
       "    </tr>\n",
       "  </tbody>\n",
       "</table>\n",
       "</div>"
      ],
      "text/plain": [
       "          asin                                              title   price\n",
       "0   B014TMV5YE  Sion Softside Expandable Roller Luggage, Black...  139.99\n",
       "1   B07GDLCQXV  Luggage Sets Expandable PC+ABS Durable Suitcas...  169.99\n",
       "3   B08MVFKGJM  Freeform Hardside Expandable with Double Spinn...  291.59\n",
       "4   B01DJLKZBA  Winfield 2 Hardside Expandable Luggage with Sp...  174.99\n",
       "5   B07XSCD2R4  Maxlite 5 Softside Expandable Luggage with 4 S...  144.49\n",
       "6   B07MXF4G8K  Hard Shell Carry on Luggage Airline Approved, ...  169.99\n",
       "7   B07H515VCZ  Maxporter II 30\" Hardside Spinner Trunk Luggag...  299.99\n",
       "8   B08BXBCNMQ  Omni 2 Hardside Expandable Luggage with Spinne...  112.63\n",
       "9   B0B9K44XTS  Luggage Sets Expandable Lightweight Suitcases ...  209.99\n",
       "10  B07QZLHTTY  Crew Versapack Softside Expandable 8 Spinner W...  271.99"
      ]
     },
     "execution_count": 15,
     "metadata": {},
     "output_type": "execute_result"
    }
   ],
   "source": [
    "recommend_similar_by_text('B07XSCCZYG', df)"
   ]
  },
  {
   "cell_type": "code",
   "execution_count": null,
   "id": "3f2acdb0",
   "metadata": {},
   "outputs": [],
   "source": [
    "df.to_csv('amazon_products_cleaned.csv', index=False)"
   ]
  }
 ],
 "metadata": {
  "kernelspec": {
   "display_name": "Python 3",
   "language": "python",
   "name": "python3"
  },
  "language_info": {
   "codemirror_mode": {
    "name": "ipython",
    "version": 3
   },
   "file_extension": ".py",
   "mimetype": "text/x-python",
   "name": "python",
   "nbconvert_exporter": "python",
   "pygments_lexer": "ipython3",
   "version": "3.12.0"
  }
 },
 "nbformat": 4,
 "nbformat_minor": 5
}
