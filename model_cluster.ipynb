{
 "cells": [
  {
   "cell_type": "code",
   "execution_count": 16,
   "id": "c1b7ae19",
   "metadata": {},
   "outputs": [],
   "source": [
    "import warnings\n",
    "warnings.filterwarnings('ignore')"
   ]
  },
  {
   "cell_type": "code",
   "execution_count": 17,
   "id": "69c365a8",
   "metadata": {},
   "outputs": [],
   "source": [
    "import pandas as pd\n",
    "df = pd.read_csv('amazon_cleaned.csv')\n",
    "data = pd.read_csv('amazon.csv')"
   ]
  },
  {
   "cell_type": "code",
   "execution_count": 18,
   "id": "904f6ff4",
   "metadata": {},
   "outputs": [
    {
     "data": {
      "text/plain": [
       "212"
      ]
     },
     "execution_count": 18,
     "metadata": {},
     "output_type": "execute_result"
    }
   ],
   "source": [
    "data['category'].nunique()"
   ]
  },
  {
   "cell_type": "code",
   "execution_count": 19,
   "id": "3aa55214",
   "metadata": {},
   "outputs": [
    {
     "data": {
      "application/vnd.jupyter.widget-view+json": {
       "model_id": "8ef8934ea0bb461a8edbdc67b2706b52",
       "version_major": 2,
       "version_minor": 0
      },
      "text/plain": [
       "Batches:   0%|          | 0/46 [00:00<?, ?it/s]"
      ]
     },
     "metadata": {},
     "output_type": "display_data"
    }
   ],
   "source": [
    "from sentence_transformers import SentenceTransformer\n",
    "model = SentenceTransformer('all-mpnet-base-v2')\n",
    "embeddings = model.encode(df['tags'].tolist(), show_progress_bar=True, device='cuda')"
   ]
  },
  {
   "cell_type": "code",
   "execution_count": 20,
   "id": "4f223dc7",
   "metadata": {},
   "outputs": [],
   "source": [
    "from sklearn.cluster import KMeans\n",
    "\n",
    "kmeans = KMeans(n_clusters=200, random_state=42)\n",
    "df['embeddings'] = kmeans.fit_predict(embeddings)\n",
    "df['embeddings'] = df['embeddings'].astype(str)"
   ]
  },
  {
   "cell_type": "code",
   "execution_count": 21,
   "id": "f1ab575a",
   "metadata": {},
   "outputs": [],
   "source": [
    "def recommend_similar_by_text(product_id, df, top_n=10):\n",
    "    cluster_id = df[df['product_id'] == product_id]['embeddings'].values[0]\n",
    "    similar_products = data[df['embeddings'] == cluster_id]\n",
    "    return similar_products[similar_products['product_id'] != product_id][['product_id', 'product_name', 'about_product']].head(top_n)"
   ]
  },
  {
   "cell_type": "code",
   "execution_count": 22,
   "id": "4a0cf303",
   "metadata": {},
   "outputs": [
    {
     "data": {
      "text/html": [
       "<div>\n",
       "<style scoped>\n",
       "    .dataframe tbody tr th:only-of-type {\n",
       "        vertical-align: middle;\n",
       "    }\n",
       "\n",
       "    .dataframe tbody tr th {\n",
       "        vertical-align: top;\n",
       "    }\n",
       "\n",
       "    .dataframe thead th {\n",
       "        text-align: right;\n",
       "    }\n",
       "</style>\n",
       "<table border=\"1\" class=\"dataframe\">\n",
       "  <thead>\n",
       "    <tr style=\"text-align: right;\">\n",
       "      <th></th>\n",
       "      <th>product_id</th>\n",
       "      <th>product_name</th>\n",
       "      <th>about_product</th>\n",
       "    </tr>\n",
       "  </thead>\n",
       "  <tbody>\n",
       "    <tr>\n",
       "      <th>42</th>\n",
       "      <td>B07JW1Y6XV</td>\n",
       "      <td>Wayona Nylon Braided 3A Lightning to USB A Syn...</td>\n",
       "      <td>[High Compatibility] : iPhone X/XsMax/Xr ,iPho...</td>\n",
       "    </tr>\n",
       "    <tr>\n",
       "      <th>80</th>\n",
       "      <td>B07LGT55SJ</td>\n",
       "      <td>Wayona Usb Nylon Braided Data Sync And Chargin...</td>\n",
       "      <td>[High Compatibility] : Compatible For iPhone X...</td>\n",
       "    </tr>\n",
       "    <tr>\n",
       "      <th>89</th>\n",
       "      <td>B07JH1C41D</td>\n",
       "      <td>Wayona Nylon Braided (2 Pack) Lightning Fast U...</td>\n",
       "      <td>[High Compatibility] : iPhone X/XsMax/Xr ,iPho...</td>\n",
       "    </tr>\n",
       "    <tr>\n",
       "      <th>104</th>\n",
       "      <td>B07JNVF678</td>\n",
       "      <td>Wayona Nylon Braided USB Data Sync and Fast Ch...</td>\n",
       "      <td>[High Compatibility] : iPhones, iPad Air, iPad...</td>\n",
       "    </tr>\n",
       "    <tr>\n",
       "      <th>106</th>\n",
       "      <td>B07JGDB5M1</td>\n",
       "      <td>Wayona Nylon Braided 2M / 6Ft Fast Charge Usb ...</td>\n",
       "      <td>[High Compatibility] : Phone X/XsMax/Xr ,Phone...</td>\n",
       "    </tr>\n",
       "    <tr>\n",
       "      <th>166</th>\n",
       "      <td>B07JPJJZ2H</td>\n",
       "      <td>Wayona Nylon Braided Lightning USB Data Sync &amp;...</td>\n",
       "      <td>[High Compatibility] : iPhones, iPad Air, iPad...</td>\n",
       "    </tr>\n",
       "    <tr>\n",
       "      <th>208</th>\n",
       "      <td>B095244Q22</td>\n",
       "      <td>MYVN LTG to USB for Fast Charging &amp; Data Sync ...</td>\n",
       "      <td>[High Compatibility] : iPhones, iPad Air, iPad...</td>\n",
       "    </tr>\n",
       "    <tr>\n",
       "      <th>220</th>\n",
       "      <td>B07JH1CBGW</td>\n",
       "      <td>Wayona Nylon Braided Usb Syncing And Charging ...</td>\n",
       "      <td>[High Compatibility] : iPhone X/XsMax/Xr ,iPho...</td>\n",
       "    </tr>\n",
       "    <tr>\n",
       "      <th>261</th>\n",
       "      <td>B07F1P8KNV</td>\n",
       "      <td>Wayona Nylon Braided Usb Type C 3Ft 1M 3A Fast...</td>\n",
       "      <td>Usb c to usb a data charging cable, fully comp...</td>\n",
       "    </tr>\n",
       "  </tbody>\n",
       "</table>\n",
       "</div>"
      ],
      "text/plain": [
       "     product_id                                       product_name  \\\n",
       "42   B07JW1Y6XV  Wayona Nylon Braided 3A Lightning to USB A Syn...   \n",
       "80   B07LGT55SJ  Wayona Usb Nylon Braided Data Sync And Chargin...   \n",
       "89   B07JH1C41D  Wayona Nylon Braided (2 Pack) Lightning Fast U...   \n",
       "104  B07JNVF678  Wayona Nylon Braided USB Data Sync and Fast Ch...   \n",
       "106  B07JGDB5M1  Wayona Nylon Braided 2M / 6Ft Fast Charge Usb ...   \n",
       "166  B07JPJJZ2H  Wayona Nylon Braided Lightning USB Data Sync &...   \n",
       "208  B095244Q22  MYVN LTG to USB for Fast Charging & Data Sync ...   \n",
       "220  B07JH1CBGW  Wayona Nylon Braided Usb Syncing And Charging ...   \n",
       "261  B07F1P8KNV  Wayona Nylon Braided Usb Type C 3Ft 1M 3A Fast...   \n",
       "\n",
       "                                         about_product  \n",
       "42   [High Compatibility] : iPhone X/XsMax/Xr ,iPho...  \n",
       "80   [High Compatibility] : Compatible For iPhone X...  \n",
       "89   [High Compatibility] : iPhone X/XsMax/Xr ,iPho...  \n",
       "104  [High Compatibility] : iPhones, iPad Air, iPad...  \n",
       "106  [High Compatibility] : Phone X/XsMax/Xr ,Phone...  \n",
       "166  [High Compatibility] : iPhones, iPad Air, iPad...  \n",
       "208  [High Compatibility] : iPhones, iPad Air, iPad...  \n",
       "220  [High Compatibility] : iPhone X/XsMax/Xr ,iPho...  \n",
       "261  Usb c to usb a data charging cable, fully comp...  "
      ]
     },
     "execution_count": 22,
     "metadata": {},
     "output_type": "execute_result"
    }
   ],
   "source": [
    "recommend_similar_by_text('B07JW9H4J1', df)"
   ]
  },
  {
   "cell_type": "code",
   "execution_count": 23,
   "id": "0d0a258f",
   "metadata": {},
   "outputs": [],
   "source": [
    "df.to_csv('amazon_cleaned.csv', index=False)"
   ]
  }
 ],
 "metadata": {
  "kernelspec": {
   "display_name": "Python 3",
   "language": "python",
   "name": "python3"
  },
  "language_info": {
   "codemirror_mode": {
    "name": "ipython",
    "version": 3
   },
   "file_extension": ".py",
   "mimetype": "text/x-python",
   "name": "python",
   "nbconvert_exporter": "python",
   "pygments_lexer": "ipython3",
   "version": "3.12.0"
  }
 },
 "nbformat": 4,
 "nbformat_minor": 5
}
